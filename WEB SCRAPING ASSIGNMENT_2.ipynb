{
 "cells": [
  {
   "cell_type": "code",
   "execution_count": null,
   "metadata": {},
   "outputs": [],
   "source": [
    "import selenium\n",
    "import pandas as pd\n",
    "from selenium import webdriver\n",
    "import warnings\n",
    "warnings.filterwarnings(\"ignore\")\n",
    "import time\n",
    "from selenium.webdriver.chrome.options import Options"
   ]
  },
  {
   "cell_type": "code",
   "execution_count": null,
   "metadata": {},
   "outputs": [],
   "source": [
    "# connect to chrome driver\n",
    "driver=webdriver.Chrome(\"C:\\ProgramData\\Anaconda3\\lib\\site-packages\\selenium\\webdriver\\chrome\\webdriver.py\")\n",
    "driver"
   ]
  },
  {
   "cell_type": "code",
   "execution_count": null,
   "metadata": {},
   "outputs": [],
   "source": [
    "#opening the the page from nauki.com\n",
    "driver.get(\"https://www.naukri.com/\")\n",
    "user_input=input(\"Enter the text\") #ask user to enter the object the job titel,desiganation,skills.etc he or she want to search"
   ]
  },
  {
   "cell_type": "code",
   "execution_count": null,
   "metadata": {},
   "outputs": [],
   "source": [
    "searchbar=driver.find_element_by_id('qsb-keyword-sugg')#webelement for the search bar by ID function \n",
    "searchbar.clear()\n",
    "searchbar.send_keys(user_input)\n"
   ]
  },
  {
   "cell_type": "code",
   "execution_count": null,
   "metadata": {},
   "outputs": [],
   "source": [
    "location_input=input(\"Enter the loaction \")#ask user to enter the job loaction where he or she want to search job.\n",
    "loacation_searchbar=driver.find_element_by_id(\"qsb-location-sugg\")#webelement for Location bar by ID function\n",
    "loacation_searchbar.clear()\n",
    "loacation_searchbar.send_keys(location_input)"
   ]
  },
  {
   "cell_type": "code",
   "execution_count": null,
   "metadata": {},
   "outputs": [],
   "source": [
    "#web element for thr search button by xpath function\n",
    "driver.find_element_by_xpath(\"//div[@class='search-btn']\").click()"
   ]
  },
  {
   "cell_type": "code",
   "execution_count": null,
   "metadata": {},
   "outputs": [],
   "source": [
    "Job_title=[]\n",
    "Job_location=[]\n",
    "company_name=[]\n",
    "experience_required=[]\n",
    "\n"
   ]
  },
  {
   "cell_type": "code",
   "execution_count": null,
   "metadata": {},
   "outputs": [],
   "source": [
    "for i in range(1,2):\n",
    "    for t in driver.find_elements_by_xpath(\"//a[@class='title fw500 ellipsis']\"): #webelement for the Job Title by xpath function\n",
    "        Job_title.append(t.text.replace('\\n',''))\n",
    "        \n",
    "    for j in driver.find_elements_by_xpath(\"//li[@class='fleft grey-text br2 placeHolderLi location']//span\"):  #webelement for the Job Location by xpath function\n",
    "            Job_location.append (j.text.replace('\\n',''))\n",
    "            \n",
    "    for c in driver.find_elements_by_xpath(\"//a[@class='subTitle ellipsis fleft']\"): #webelement for the Company name by xpath function\n",
    "          company_name.append(c.text.replace('\\n',''))\n",
    "    for e in driver.find_elements_by_xpath(\"//li[@class='fleft grey-text br2 placeHolderLi experience']//span\"): #webelement for the experience required by xpath function\n",
    "        experience_required.append(e.text.replace('\\n',''))\n",
    "    driver.find_element_by_xpath(\"//a[@class='fright fs14 btn-secondary br2']\").click()"
   ]
  },
  {
   "cell_type": "code",
   "execution_count": null,
   "metadata": {},
   "outputs": [],
   "source": [
    "Job_title"
   ]
  },
  {
   "cell_type": "code",
   "execution_count": null,
   "metadata": {},
   "outputs": [],
   "source": [
    "Job_location"
   ]
  },
  {
   "cell_type": "code",
   "execution_count": null,
   "metadata": {},
   "outputs": [],
   "source": [
    "company_name"
   ]
  },
  {
   "cell_type": "code",
   "execution_count": null,
   "metadata": {},
   "outputs": [],
   "source": [
    "experience_required"
   ]
  },
  {
   "cell_type": "code",
   "execution_count": null,
   "metadata": {},
   "outputs": [],
   "source": [
    "#checking the length of each columns\n",
    "print(len(Job_title),len(Job_location),len(company_name),len(experience_required))"
   ]
  },
  {
   "cell_type": "code",
   "execution_count": null,
   "metadata": {},
   "outputs": [],
   "source": [
    "df=pd.DataFrame({})\n",
    "df['Job_title']=Job_title\n",
    "df['Job_location']=Job_location\n",
    "df['company_name']=company_name\n",
    "df['experience_required']=experience_required\n",
    "df"
   ]
  },
  {
   "cell_type": "markdown",
   "metadata": {},
   "source": [
    "# top 10 Job Data"
   ]
  },
  {
   "cell_type": "code",
   "execution_count": null,
   "metadata": {},
   "outputs": [],
   "source": [
    "df.iloc[0:10]"
   ]
  }
 ],
 "metadata": {
  "kernelspec": {
   "display_name": "Python 3 (ipykernel)",
   "language": "python",
   "name": "python3"
  },
  "language_info": {
   "codemirror_mode": {
    "name": "ipython",
    "version": 3
   },
   "file_extension": ".py",
   "mimetype": "text/x-python",
   "name": "python",
   "nbconvert_exporter": "python",
   "pygments_lexer": "ipython3",
   "version": "3.9.12"
  }
 },
 "nbformat": 4,
 "nbformat_minor": 4
}
